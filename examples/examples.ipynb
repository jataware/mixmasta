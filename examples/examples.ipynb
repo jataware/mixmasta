{
 "cells": [
  {
   "cell_type": "code",
   "execution_count": 1,
   "metadata": {},
   "outputs": [],
   "source": [
    "from mixmaster import mixmaster as mix"
   ]
  },
  {
   "cell_type": "code",
   "execution_count": 2,
   "metadata": {},
   "outputs": [],
   "source": [
    "df = mix.raster2df('chirps-v2.0.2021.01.3.tif', feature_name='rainfall', band=1)"
   ]
  },
  {
   "cell_type": "code",
   "execution_count": 3,
   "metadata": {},
   "outputs": [
    {
     "data": {
      "text/html": [
       "<div>\n",
       "<style scoped>\n",
       "    .dataframe tbody tr th:only-of-type {\n",
       "        vertical-align: middle;\n",
       "    }\n",
       "\n",
       "    .dataframe tbody tr th {\n",
       "        vertical-align: top;\n",
       "    }\n",
       "\n",
       "    .dataframe thead th {\n",
       "        text-align: right;\n",
       "    }\n",
       "</style>\n",
       "<table border=\"1\" class=\"dataframe\">\n",
       "  <thead>\n",
       "    <tr style=\"text-align: right;\">\n",
       "      <th></th>\n",
       "      <th>longitude</th>\n",
       "      <th>latitude</th>\n",
       "      <th>rainfall</th>\n",
       "    </tr>\n",
       "  </thead>\n",
       "  <tbody>\n",
       "    <tr>\n",
       "      <th>0</th>\n",
       "      <td>-79.525</td>\n",
       "      <td>23.475</td>\n",
       "      <td>2.136781</td>\n",
       "    </tr>\n",
       "    <tr>\n",
       "      <th>1</th>\n",
       "      <td>-79.475</td>\n",
       "      <td>23.475</td>\n",
       "      <td>1.977196</td>\n",
       "    </tr>\n",
       "    <tr>\n",
       "      <th>2</th>\n",
       "      <td>-76.125</td>\n",
       "      <td>23.475</td>\n",
       "      <td>1.031077</td>\n",
       "    </tr>\n",
       "    <tr>\n",
       "      <th>3</th>\n",
       "      <td>-76.075</td>\n",
       "      <td>23.475</td>\n",
       "      <td>1.336039</td>\n",
       "    </tr>\n",
       "    <tr>\n",
       "      <th>4</th>\n",
       "      <td>-76.025</td>\n",
       "      <td>23.475</td>\n",
       "      <td>1.422843</td>\n",
       "    </tr>\n",
       "  </tbody>\n",
       "</table>\n",
       "</div>"
      ],
      "text/plain": [
       "   longitude  latitude  rainfall\n",
       "0    -79.525    23.475  2.136781\n",
       "1    -79.475    23.475  1.977196\n",
       "2    -76.125    23.475  1.031077\n",
       "3    -76.075    23.475  1.336039\n",
       "4    -76.025    23.475  1.422843"
      ]
     },
     "execution_count": 3,
     "metadata": {},
     "output_type": "execute_result"
    }
   ],
   "source": [
    "df.head()"
   ]
  },
  {
   "cell_type": "code",
   "execution_count": 4,
   "metadata": {},
   "outputs": [],
   "source": [
    "df2 = mix.netcdf2df('tos_O1_2001-2002.nc')"
   ]
  },
  {
   "cell_type": "code",
   "execution_count": 5,
   "metadata": {},
   "outputs": [
    {
     "data": {
      "text/html": [
       "<div>\n",
       "<style scoped>\n",
       "    .dataframe tbody tr th:only-of-type {\n",
       "        vertical-align: middle;\n",
       "    }\n",
       "\n",
       "    .dataframe tbody tr th {\n",
       "        vertical-align: top;\n",
       "    }\n",
       "\n",
       "    .dataframe thead th {\n",
       "        text-align: right;\n",
       "    }\n",
       "</style>\n",
       "<table border=\"1\" class=\"dataframe\">\n",
       "  <thead>\n",
       "    <tr style=\"text-align: right;\">\n",
       "      <th></th>\n",
       "      <th>bnds</th>\n",
       "      <th>lat</th>\n",
       "      <th>lon</th>\n",
       "      <th>time</th>\n",
       "      <th>lon_bnds</th>\n",
       "      <th>lat_bnds</th>\n",
       "      <th>time_bnds</th>\n",
       "      <th>tos</th>\n",
       "    </tr>\n",
       "  </thead>\n",
       "  <tbody>\n",
       "    <tr>\n",
       "      <th>0</th>\n",
       "      <td>0</td>\n",
       "      <td>-79.5</td>\n",
       "      <td>1.0</td>\n",
       "      <td>2001-01-16 00:00:00</td>\n",
       "      <td>-0.0</td>\n",
       "      <td>-80.0</td>\n",
       "      <td>2001-01-01 00:00:00</td>\n",
       "      <td>NaN</td>\n",
       "    </tr>\n",
       "    <tr>\n",
       "      <th>1</th>\n",
       "      <td>0</td>\n",
       "      <td>-79.5</td>\n",
       "      <td>1.0</td>\n",
       "      <td>2001-02-16 00:00:00</td>\n",
       "      <td>-0.0</td>\n",
       "      <td>-80.0</td>\n",
       "      <td>2001-02-01 00:00:00</td>\n",
       "      <td>NaN</td>\n",
       "    </tr>\n",
       "    <tr>\n",
       "      <th>2</th>\n",
       "      <td>0</td>\n",
       "      <td>-79.5</td>\n",
       "      <td>1.0</td>\n",
       "      <td>2001-03-16 00:00:00</td>\n",
       "      <td>-0.0</td>\n",
       "      <td>-80.0</td>\n",
       "      <td>2001-03-01 00:00:00</td>\n",
       "      <td>NaN</td>\n",
       "    </tr>\n",
       "    <tr>\n",
       "      <th>3</th>\n",
       "      <td>0</td>\n",
       "      <td>-79.5</td>\n",
       "      <td>1.0</td>\n",
       "      <td>2001-04-16 00:00:00</td>\n",
       "      <td>-0.0</td>\n",
       "      <td>-80.0</td>\n",
       "      <td>2001-04-01 00:00:00</td>\n",
       "      <td>NaN</td>\n",
       "    </tr>\n",
       "    <tr>\n",
       "      <th>4</th>\n",
       "      <td>0</td>\n",
       "      <td>-79.5</td>\n",
       "      <td>1.0</td>\n",
       "      <td>2001-05-16 00:00:00</td>\n",
       "      <td>-0.0</td>\n",
       "      <td>-80.0</td>\n",
       "      <td>2001-05-01 00:00:00</td>\n",
       "      <td>NaN</td>\n",
       "    </tr>\n",
       "  </tbody>\n",
       "</table>\n",
       "</div>"
      ],
      "text/plain": [
       "   bnds   lat  lon                 time  lon_bnds  lat_bnds  \\\n",
       "0     0 -79.5  1.0  2001-01-16 00:00:00      -0.0     -80.0   \n",
       "1     0 -79.5  1.0  2001-02-16 00:00:00      -0.0     -80.0   \n",
       "2     0 -79.5  1.0  2001-03-16 00:00:00      -0.0     -80.0   \n",
       "3     0 -79.5  1.0  2001-04-16 00:00:00      -0.0     -80.0   \n",
       "4     0 -79.5  1.0  2001-05-16 00:00:00      -0.0     -80.0   \n",
       "\n",
       "             time_bnds  tos  \n",
       "0  2001-01-01 00:00:00  NaN  \n",
       "1  2001-02-01 00:00:00  NaN  \n",
       "2  2001-03-01 00:00:00  NaN  \n",
       "3  2001-04-01 00:00:00  NaN  \n",
       "4  2001-05-01 00:00:00  NaN  "
      ]
     },
     "execution_count": 5,
     "metadata": {},
     "output_type": "execute_result"
    }
   ],
   "source": [
    "df2.head()"
   ]
  }
 ],
 "metadata": {
  "kernelspec": {
   "display_name": "Python 3",
   "language": "python",
   "name": "python3"
  },
  "language_info": {
   "codemirror_mode": {
    "name": "ipython",
    "version": 3
   },
   "file_extension": ".py",
   "mimetype": "text/x-python",
   "name": "python",
   "nbconvert_exporter": "python",
   "pygments_lexer": "ipython3",
   "version": "3.8.8"
  }
 },
 "nbformat": 4,
 "nbformat_minor": 4
}
